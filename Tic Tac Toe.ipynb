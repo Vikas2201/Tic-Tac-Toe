{
 "cells": [
  {
   "cell_type": "markdown",
   "metadata": {},
   "source": [
    "TIC TAC TOE GAME\n",
    "--------------------"
   ]
  },
  {
   "cell_type": "code",
   "execution_count": 1,
   "metadata": {},
   "outputs": [],
   "source": [
    "#creating blank board for tic tac toe\n",
    "board = [' ' for i in range(10)]"
   ]
  },
  {
   "cell_type": "code",
   "execution_count": 2,
   "metadata": {},
   "outputs": [],
   "source": [
    "#insert letter function\n",
    "def insert_letter(letter , position) :\n",
    "    board[position] = letter"
   ]
  },
  {
   "cell_type": "code",
   "execution_count": 3,
   "metadata": {},
   "outputs": [],
   "source": [
    "#function to check if position is free\n",
    "def check_free(pos) :\n",
    "    return (board[pos] == \" \")"
   ]
  },
  {
   "cell_type": "code",
   "execution_count": 4,
   "metadata": {},
   "outputs": [],
   "source": [
    "#board printing function\n",
    "def print_board(board):\n",
    "    print(\" \" + board[1] + \"| \" + board[2] + \"| \" +board[3])\n",
    "    print(\"---------\")\n",
    "    print(\" \" + board[4] + \"| \" + board[5] + \"| \" +board[6])\n",
    "    print(\"---------\")\n",
    "    print(\" \" + board[7] + \"| \" + board[8] + \"| \" +board[9])\n",
    "    print(\"---------\")"
   ]
  },
  {
   "cell_type": "code",
   "execution_count": 5,
   "metadata": {},
   "outputs": [],
   "source": [
    "#function to check if there is a winner\n",
    "def check_winner(B , L) :#B stand for Board and L stand for Letter\n",
    "    return ((B[1] == L and B[2] == L and B[3] == L) or\n",
    "           (B[4] == L and B[5] == L and B[6] == L) or \n",
    "           (B[7] == L and B[8] == L and B[9] == L) or\n",
    "           (B[1] == L and B[4] == L and B[7] == L) or  \n",
    "           (B[2] == L and B[5] == L and B[8] == L) or \n",
    "           (B[3] == L and B[6] == L and B[9] == L) or \n",
    "           (B[1] == L and B[5] == L and B[9] == L) or  \n",
    "           (B[3] == L and B[5] == L and B[7] == L))"
   ]
  },
  {
   "cell_type": "code",
   "execution_count": 6,
   "metadata": {},
   "outputs": [],
   "source": [
    "#function for the player move\n",
    "def player_move() :\n",
    "    while True :\n",
    "        try : \n",
    "            move = int(input(\"Please select position for 'X' from (1-9): \"))\n",
    "            if move > 0 and move < 10 :\n",
    "                if check_free(move) :\n",
    "                    insert_letter('X' , move)\n",
    "                    break\n",
    "                else :\n",
    "                    print(\"Sorry This Space Is Already Occupied\")\n",
    "            else :\n",
    "                print(\"Please Type The Number With in The Range(1-9)\")\n",
    "        except : \n",
    "            print(\"Please Type A Number. \")"
   ]
  },
  {
   "cell_type": "code",
   "execution_count": 7,
   "metadata": {},
   "outputs": [],
   "source": [
    "#AI function for the computer\n",
    "def computer_move() :\n",
    "    #Checks for empty slots in the board\n",
    "    possible_move = [i for i , letter in enumerate(board) if letter == \" \" and i != 0]\n",
    "    #Check for the wining move \n",
    "    for L in [\"O\" , \"X\"] :\n",
    "        for i in possible_move :\n",
    "            boardcopy = board[ : ]\n",
    "            boardcopy[i] = L\n",
    "            if check_winner(boardcopy , L) :\n",
    "                move = i \n",
    "                return move\n",
    "    #checks for open corners\n",
    "    corners = []\n",
    "    for i in possible_move :\n",
    "        if i in [1,3,7,9] :\n",
    "            corners.append(i)\n",
    "    if len(corners) > 0 :\n",
    "        move = select_random(corners)\n",
    "        return move\n",
    "    #check for middle slot\n",
    "    if 5 in possible_move :\n",
    "        move = 5\n",
    "        return move\n",
    "    #Checks for open edges\n",
    "    edge = []\n",
    "    for i in possible_move :\n",
    "        if i in [2,4,6,8] :\n",
    "            edge.append(i)\n",
    "    if len(edge) > 0 :\n",
    "        move = select_random(edge)\n",
    "        return move            "
   ]
  },
  {
   "cell_type": "code",
   "execution_count": 8,
   "metadata": {},
   "outputs": [],
   "source": [
    "#Select random function\n",
    "import random\n",
    "def select_random(List) :\n",
    "    r = random.randrange(0 , len(List))\n",
    "    return List[r]"
   ]
  },
  {
   "cell_type": "code",
   "execution_count": 9,
   "metadata": {},
   "outputs": [],
   "source": [
    "#check board is full or not\n",
    "def check_full(board) :\n",
    "    if(board.count(\" \") > 1) :\n",
    "        return False\n",
    "    else :\n",
    "        return True   "
   ]
  },
  {
   "cell_type": "code",
   "execution_count": 10,
   "metadata": {},
   "outputs": [
    {
     "name": "stdout",
     "output_type": "stream",
     "text": [
      "Welcome Tic Tac Toe\n",
      "  |  |  \n",
      "---------\n",
      "  |  |  \n",
      "---------\n",
      "  |  |  \n",
      "---------\n",
      "Please select position for 'X' from (1-9): 1\n",
      " X|  |  \n",
      "---------\n",
      "  |  |  \n",
      "---------\n",
      "  |  |  \n",
      "---------\n",
      "7\n",
      "Computer Placed An 'O' In Position  7 :\n",
      " X|  |  \n",
      "---------\n",
      "  |  |  \n",
      "---------\n",
      " O|  |  \n",
      "---------\n",
      "Please select position for 'X' from (1-9): 3\n",
      " X|  | X\n",
      "---------\n",
      "  |  |  \n",
      "---------\n",
      " O|  |  \n",
      "---------\n",
      "2\n",
      "Computer Placed An 'O' In Position  2 :\n",
      " X| O| X\n",
      "---------\n",
      "  |  |  \n",
      "---------\n",
      " O|  |  \n",
      "---------\n",
      "Please select position for 'X' from (1-9): 5\n",
      " X| O| X\n",
      "---------\n",
      "  | X|  \n",
      "---------\n",
      " O|  |  \n",
      "---------\n",
      "9\n",
      "Computer Placed An 'O' In Position  9 :\n",
      " X| O| X\n",
      "---------\n",
      "  | X|  \n",
      "---------\n",
      " O|  | O\n",
      "---------\n",
      "Please select position for 'X' from (1-9): 8\n",
      " X| O| X\n",
      "---------\n",
      "  | X|  \n",
      "---------\n",
      " O| X| O\n",
      "---------\n",
      "6\n",
      "Computer Placed An 'O' In Position  6 :\n",
      " X| O| X\n",
      "---------\n",
      "  | X| O\n",
      "---------\n",
      " O| X| O\n",
      "---------\n",
      "Please select position for 'X' from (1-9): 4\n",
      " X| O| X\n",
      "---------\n",
      " X| X| O\n",
      "---------\n",
      " O| X| O\n",
      "---------\n",
      "None\n",
      "Tie Game\n"
     ]
    }
   ],
   "source": [
    "#Main function\n",
    "def main():\n",
    "    print(\"Welcome Tic Tac Toe\")\n",
    "    print_board(board)\n",
    "    while not(check_full(board)) :\n",
    "        if not(check_winner(board, \"O\")):\n",
    "            player_move()\n",
    "            print_board(board)\n",
    "        else:\n",
    "            print(\"Sorry, O's Won This Time! Try For Next Time \")\n",
    "            break\n",
    "        \n",
    "        if not(check_winner(board, \"X\")):\n",
    "            move  = computer_move()\n",
    "            if move == 0 or move == None :\n",
    "                print(\"Tie Game\")\n",
    "                break\n",
    "            else:\n",
    "                insert_letter(\"O\", move)\n",
    "                print(\"Computer Placed An 'O' In Position \", move, \":\")\n",
    "                print_board(board)\n",
    "        else:\n",
    "            print(\"X's Won This Time! Good Job\")\n",
    "            break\n",
    "\n",
    "main()"
   ]
  },
  {
   "cell_type": "code",
   "execution_count": null,
   "metadata": {},
   "outputs": [],
   "source": []
  }
 ],
 "metadata": {
  "kernelspec": {
   "display_name": "Python 3",
   "language": "python",
   "name": "python3"
  },
  "language_info": {
   "codemirror_mode": {
    "name": "ipython",
    "version": 3
   },
   "file_extension": ".py",
   "mimetype": "text/x-python",
   "name": "python",
   "nbconvert_exporter": "python",
   "pygments_lexer": "ipython3",
   "version": "3.8.3"
  }
 },
 "nbformat": 4,
 "nbformat_minor": 4
}
